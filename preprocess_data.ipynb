{
 "cells": [
  {
   "attachments": {},
   "cell_type": "markdown",
   "id": "d11d990e",
   "metadata": {},
   "source": [
    "## Preprocessing data\n",
    "Run this script once to reproduce the processed_data directory that will be later loaded to disk in the model notebooks."
   ]
  },
  {
   "cell_type": "code",
   "execution_count": 1,
   "id": "8c6b9d7c",
   "metadata": {},
   "outputs": [
    {
     "name": "stderr",
     "output_type": "stream",
     "text": [
      "Found cached dataset parquet (/home/sh4230/.cache/huggingface/datasets/huggan___parquet/huggan--wikiart-f80281a55521ea74/0.0.0/14a00e99c0d15a23649d0db8944380ac81082d4b021f398733dd84f3a6c569a7)\n"
     ]
    }
   ],
   "source": [
    "from datasets import load_dataset\n",
    "\n",
    "dataset = load_dataset(\"huggan/wikiart\", split=\"train\")"
   ]
  },
  {
   "attachments": {},
   "cell_type": "markdown",
   "id": "9d8c47a0",
   "metadata": {},
   "source": [
    "Save mappings from numeric class to string"
   ]
  },
  {
   "cell_type": "code",
   "execution_count": 7,
   "id": "309ca020",
   "metadata": {},
   "outputs": [
    {
     "name": "stderr",
     "output_type": "stream",
     "text": [
      "Found cached dataset parquet (/home/sh4230/.cache/huggingface/datasets/huggan___parquet/huggan--wikiart-f80281a55521ea74/0.0.0/14a00e99c0d15a23649d0db8944380ac81082d4b021f398733dd84f3a6c569a7)\n"
     ]
    }
   ],
   "source": [
    "features = dataset.features\n",
    "style_label_mapping = features[\"style\"].int2str"
   ]
  },
  {
   "cell_type": "code",
   "execution_count": 8,
   "id": "b71554cf",
   "metadata": {},
   "outputs": [],
   "source": [
    "num_to_style = {}\n",
    "for label in range(len(features[\"style\"].names)):\n",
    "    num_to_style[int(label)] = features['style'].int2str(label)\n",
    "with open(\"num_to_style.json\", \"w\") as f:\n",
    "    json.dump(num_to_style, f)"
   ]
  },
  {
   "attachments": {},
   "cell_type": "markdown",
   "id": "a71f51f8",
   "metadata": {},
   "source": [
    "Process data to 224x224 (for ResNet50 and ViT input) and save to disk"
   ]
  },
  {
   "cell_type": "code",
   "execution_count": null,
   "id": "9bea8d5e",
   "metadata": {},
   "outputs": [],
   "source": [
    "from torchvision import transforms\n",
    "\n",
    "transform = transforms.Compose([\n",
    "    transforms.Resize((224, 224)),\n",
    "    transforms.ToTensor(),\n",
    "    transforms.Normalize([0.485, 0.456, 0.406], [0.229, 0.224, 0.225])\n",
    "])\n",
    "\n",
    "def preprocess_function(batch):\n",
    "    pixels = [transform(image) for image in batch[\"image\"]]\n",
    "    return {\"image\": pixels, \"label\": batch[\"style\"]}\n",
    "\n",
    "processed_dataset = dataset.map(preprocess_function, batched=True, batch_size=32, num_proc=4)"
   ]
  },
  {
   "cell_type": "code",
   "execution_count": null,
   "id": "32db0079",
   "metadata": {},
   "outputs": [],
   "source": [
    "processed_dataset.save_to_disk(\"processed_data\")"
   ]
  },
  {
   "attachments": {},
   "cell_type": "markdown",
   "id": "2d5dea3c",
   "metadata": {},
   "source": [
    "The following cells create a subset of 20000 entries, ensures a balanced dataset, and saves to disk."
   ]
  },
  {
   "cell_type": "code",
   "execution_count": null,
   "id": "f5324687",
   "metadata": {},
   "outputs": [],
   "source": [
    "labels = [processed_dataset[i][\"label\"] for i in range(len(processed_dataset))]"
   ]
  },
  {
   "cell_type": "code",
   "execution_count": null,
   "id": "55088e4f",
   "metadata": {},
   "outputs": [],
   "source": [
    "from torch.utils.data import Subset\n",
    "from sklearn.model_selection import train_test_split\n",
    "import torch\n",
    "import os\n",
    "\n",
    "subset_size = 20000\n",
    "subset_indices, _ = train_test_split(\n",
    "    list(range(len(processed_dataset))),\n",
    "    stratify=labels,\n",
    "    test_size=(len(processed_dataset) - subset_size),\n",
    "    random_state=42,\n",
    ")\n",
    "\n",
    "subset = Subset(processed_dataset, subset_indices)\n",
    "subset_labels = [labels[i] for i in subset_indices]\n",
    "\n",
    "train_indices, temp_indices, train_labels, temp_labels = train_test_split(\n",
    "    subset_indices,\n",
    "    subset_labels,\n",
    "    stratify=subset_labels,\n",
    "    test_size=0.2,\n",
    "    random_state=42,\n",
    ")\n",
    "\n",
    "val_indices, test_indices, _, _ = train_test_split(\n",
    "    temp_indices,\n",
    "    temp_labels,\n",
    "    stratify=temp_labels,\n",
    "    test_size=0.5,\n",
    "    random_state=42,\n",
    ")\n",
    "\n",
    "train_dataset = Subset(processed_dataset, train_indices)\n",
    "val_dataset = Subset(processed_dataset, val_indices)\n",
    "test_dataset = Subset(processed_dataset, test_indices)\n",
    "\n",
    "base_path = \"./data\"\n",
    "os.makedirs(base_path, exist_ok=True)\n",
    "torch.save(train_dataset, os.path.join(base_path, \"train.pt\"))\n",
    "torch.save(val_dataset, os.path.join(base_path, \"val.pt\"))\n",
    "torch.save(test_dataset, os.path.join(base_path, \"test.pt\"))"
   ]
  }
 ],
 "metadata": {
  "kernelspec": {
   "display_name": "Python 3",
   "language": "python",
   "name": "python3"
  },
  "language_info": {
   "codemirror_mode": {
    "name": "ipython",
    "version": 3
   },
   "file_extension": ".py",
   "mimetype": "text/x-python",
   "name": "python",
   "nbconvert_exporter": "python",
   "pygments_lexer": "ipython3",
   "version": "3.7.12"
  }
 },
 "nbformat": 4,
 "nbformat_minor": 5
}
